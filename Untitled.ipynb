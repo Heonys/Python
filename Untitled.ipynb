{
 "cells": [
  {
   "cell_type": "code",
   "execution_count": null,
   "id": "387f58bf",
   "metadata": {},
   "outputs": [],
   "source": [
    "from selenium import webdriver\n",
    "from selenium.webdriver.common.keys import Keys\n",
    "\n",
    "browser = webdriver.Chrome() \n",
    "browser.get('https://www.naver.com/')\n",
    "\n",
    "# 로그인 창 \n",
    "# elem = browser.find_element_by\n",
    "# elem.click()\n",
    "\n",
    "# elem = browser.find_element_by_id('query')\n",
    "# elem.send_keys(\"롤챔스\")"
   ]
  },
  {
   "cell_type": "code",
   "execution_count": null,
   "id": "0bb7265b",
   "metadata": {},
   "outputs": [],
   "source": []
  }
 ],
 "metadata": {
  "kernelspec": {
   "display_name": "Python 3 (ipykernel)",
   "language": "python",
   "name": "python3"
  },
  "language_info": {
   "codemirror_mode": {
    "name": "ipython",
    "version": 3
   },
   "file_extension": ".py",
   "mimetype": "text/x-python",
   "name": "python",
   "nbconvert_exporter": "python",
   "pygments_lexer": "ipython3",
   "version": "3.9.7"
  }
 },
 "nbformat": 4,
 "nbformat_minor": 5
}
